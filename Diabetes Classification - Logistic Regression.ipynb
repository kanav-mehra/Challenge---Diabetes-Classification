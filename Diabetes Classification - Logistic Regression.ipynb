{
 "cells": [
  {
   "cell_type": "code",
   "execution_count": 101,
   "metadata": {},
   "outputs": [],
   "source": [
    "import numpy as np\n",
    "import pandas as pd\n",
    "import matplotlib.pyplot as plt\n",
    "from sklearn.preprocessing import MinMaxScaler\n",
    "from sklearn.preprocessing import RobustScaler\n",
    "from sklearn.preprocessing import StandardScaler"
   ]
  },
  {
   "cell_type": "code",
   "execution_count": 102,
   "metadata": {},
   "outputs": [],
   "source": [
    "dfx = pd.read_csv('train.csv')\n",
    "df_test = pd.read_csv('test.csv')"
   ]
  },
  {
   "cell_type": "code",
   "execution_count": 103,
   "metadata": {},
   "outputs": [],
   "source": [
    "rename_train = {'p_id': 'p_id', 'no_times_pregnant': 'Pregnancies', 'glucose_concentration': 'Glucose', 'skin_fold_thickness': 'SkinThickness',\n",
    "         'blood_pressure': 'BloodPressure', 'serum_insulin': 'Insulin', 'bmi': 'BMI', 'diabetes pedigree': 'DiabetesPedigreeFunction',\n",
    "         'age': 'Age', 'diabetes': 'Label'}\n",
    "\n",
    "rename_test = {'p_id': 'p_id', 'no_times_pregnant': 'Pregnancies', 'glucose_concentration': 'Glucose', 'skin_fold_thickness': 'SkinThickness',\n",
    "         'blood_pressure': 'BloodPressure', 'serum_insulin': 'Insulin', 'bmi': 'BMI', 'diabetes pedigree': 'DiabetesPedigreeFunction',\n",
    "         'age': 'Age'}"
   ]
  },
  {
   "cell_type": "code",
   "execution_count": 104,
   "metadata": {},
   "outputs": [],
   "source": [
    "dfx.rename(columns=rename_train, inplace=True)\n",
    "df_test.rename(columns=rename_test, inplace=True)\n",
    "dfy = dfx.Label\n",
    "dfx.drop(columns='Label', inplace=True)"
   ]
  },
  {
   "cell_type": "code",
   "execution_count": 105,
   "metadata": {},
   "outputs": [],
   "source": [
    "features_NaN = [['Glucose', 'BloodPressure', 'SkinThickness', 'Insulin', 'BMI']]\n",
    "\n",
    "for feature in features_NaN:\n",
    "    dfx[feature] = dfx[feature].replace(0, np.NaN)\n",
    "    df_test[feature] = df_test[feature].replace(0, np.NaN)"
   ]
  },
  {
   "cell_type": "code",
   "execution_count": 106,
   "metadata": {},
   "outputs": [],
   "source": [
    "dfx['Glucose'].fillna(dfx['Glucose'].mean(), inplace=True)\n",
    "dfx['BloodPressure'].fillna(dfx['BloodPressure'].mean(), inplace=True)\n",
    "dfx['SkinThickness'].fillna(dfx['SkinThickness'].median(), inplace=True)\n",
    "dfx['Insulin'].fillna(dfx['Insulin'].median(), inplace=True)\n",
    "dfx['BMI'].fillna(dfx['BMI'].median(), inplace=True)"
   ]
  },
  {
   "cell_type": "code",
   "execution_count": 107,
   "metadata": {},
   "outputs": [],
   "source": [
    "df_test['Glucose'].fillna(dfx['Glucose'].mean(), inplace=True)\n",
    "df_test['BloodPressure'].fillna(dfx['BloodPressure'].mean(), inplace=True)\n",
    "df_test['SkinThickness'].fillna(dfx['SkinThickness'].median(), inplace=True)\n",
    "df_test['Insulin'].fillna(dfx['Insulin'].median(), inplace=True)\n",
    "df_test['BMI'].fillna(dfx['BMI'].median(), inplace=True)"
   ]
  },
  {
   "cell_type": "code",
   "execution_count": 108,
   "metadata": {},
   "outputs": [],
   "source": [
    "features = [['Pregnancies', 'Glucose', 'BloodPressure', 'SkinThickness', 'Insulin', 'BMI', 'DiabetesPedigreeFunction', 'Age']]\n",
    "scaler = StandardScaler()\n",
    "\n",
    "for feature in features:\n",
    "    dfx[feature] = scaler.fit_transform(dfx[feature])\n",
    "    df_test[feature] = scaler.fit_transform(df_test[feature])"
   ]
  },
  {
   "cell_type": "code",
   "execution_count": 109,
   "metadata": {},
   "outputs": [],
   "source": [
    "dfx.drop(['SkinThickness'], axis=1, inplace=True)\n",
    "df_test.drop(['SkinThickness'], axis=1, inplace=True)"
   ]
  },
  {
   "cell_type": "code",
   "execution_count": 110,
   "metadata": {},
   "outputs": [
    {
     "data": {
      "text/html": [
       "<div>\n",
       "<style scoped>\n",
       "    .dataframe tbody tr th:only-of-type {\n",
       "        vertical-align: middle;\n",
       "    }\n",
       "\n",
       "    .dataframe tbody tr th {\n",
       "        vertical-align: top;\n",
       "    }\n",
       "\n",
       "    .dataframe thead th {\n",
       "        text-align: right;\n",
       "    }\n",
       "</style>\n",
       "<table border=\"1\" class=\"dataframe\">\n",
       "  <thead>\n",
       "    <tr style=\"text-align: right;\">\n",
       "      <th></th>\n",
       "      <th>p_id</th>\n",
       "      <th>Pregnancies</th>\n",
       "      <th>Glucose</th>\n",
       "      <th>BloodPressure</th>\n",
       "      <th>Insulin</th>\n",
       "      <th>BMI</th>\n",
       "      <th>DiabetesPedigreeFunction</th>\n",
       "      <th>Age</th>\n",
       "    </tr>\n",
       "  </thead>\n",
       "  <tbody>\n",
       "    <tr>\n",
       "      <th>0</th>\n",
       "      <td>316</td>\n",
       "      <td>-0.552371</td>\n",
       "      <td>-0.314638</td>\n",
       "      <td>-0.367839</td>\n",
       "      <td>-0.534037</td>\n",
       "      <td>0.243011</td>\n",
       "      <td>-0.457475</td>\n",
       "      <td>-0.614583</td>\n",
       "    </tr>\n",
       "    <tr>\n",
       "      <th>1</th>\n",
       "      <td>25</td>\n",
       "      <td>2.129880</td>\n",
       "      <td>0.730471</td>\n",
       "      <td>1.794964</td>\n",
       "      <td>0.050693</td>\n",
       "      <td>0.607040</td>\n",
       "      <td>-0.641865</td>\n",
       "      <td>1.482759</td>\n",
       "    </tr>\n",
       "    <tr>\n",
       "      <th>2</th>\n",
       "      <td>710</td>\n",
       "      <td>-0.552371</td>\n",
       "      <td>-0.955189</td>\n",
       "      <td>-0.700578</td>\n",
       "      <td>0.208121</td>\n",
       "      <td>0.810897</td>\n",
       "      <td>0.627706</td>\n",
       "      <td>-0.866264</td>\n",
       "    </tr>\n",
       "    <tr>\n",
       "      <th>3</th>\n",
       "      <td>658</td>\n",
       "      <td>-0.850399</td>\n",
       "      <td>-0.044933</td>\n",
       "      <td>0.630378</td>\n",
       "      <td>0.657914</td>\n",
       "      <td>0.941948</td>\n",
       "      <td>2.102825</td>\n",
       "      <td>0.643822</td>\n",
       "    </tr>\n",
       "    <tr>\n",
       "      <th>4</th>\n",
       "      <td>542</td>\n",
       "      <td>-0.254343</td>\n",
       "      <td>0.224773</td>\n",
       "      <td>-0.035100</td>\n",
       "      <td>0.545465</td>\n",
       "      <td>-0.004530</td>\n",
       "      <td>0.249857</td>\n",
       "      <td>-0.530689</td>\n",
       "    </tr>\n",
       "  </tbody>\n",
       "</table>\n",
       "</div>"
      ],
      "text/plain": [
       "   p_id  Pregnancies   Glucose  BloodPressure   Insulin       BMI  \\\n",
       "0   316    -0.552371 -0.314638      -0.367839 -0.534037  0.243011   \n",
       "1    25     2.129880  0.730471       1.794964  0.050693  0.607040   \n",
       "2   710    -0.552371 -0.955189      -0.700578  0.208121  0.810897   \n",
       "3   658    -0.850399 -0.044933       0.630378  0.657914  0.941948   \n",
       "4   542    -0.254343  0.224773      -0.035100  0.545465 -0.004530   \n",
       "\n",
       "   DiabetesPedigreeFunction       Age  \n",
       "0                 -0.457475 -0.614583  \n",
       "1                 -0.641865  1.482759  \n",
       "2                  0.627706 -0.866264  \n",
       "3                  2.102825  0.643822  \n",
       "4                  0.249857 -0.530689  "
      ]
     },
     "execution_count": 110,
     "metadata": {},
     "output_type": "execute_result"
    }
   ],
   "source": [
    "dfx.head()"
   ]
  },
  {
   "cell_type": "code",
   "execution_count": 111,
   "metadata": {},
   "outputs": [],
   "source": [
    "pids = df_test['p_id']"
   ]
  },
  {
   "cell_type": "code",
   "execution_count": 112,
   "metadata": {},
   "outputs": [],
   "source": [
    "X_train = dfx.values\n",
    "Y_train = dfy.values\n",
    "X_test = df_test.values\n",
    "pids = pids.values"
   ]
  },
  {
   "cell_type": "code",
   "execution_count": 113,
   "metadata": {},
   "outputs": [],
   "source": [
    "def hypothesis(x, w, b):\n",
    "    # This function will take input vector x, weight vector w, bias b and return the hypothesis or predicted value\n",
    "    \n",
    "    hx = np.dot(x,w)+b\n",
    "    return sigmoid(hx)\n",
    "\n",
    "def sigmoid(z):\n",
    "    sig = 1.0/(1.0 + np.exp(-1.0*z))\n",
    "    return sig\n",
    "\n",
    "def error(Y_train, X_train, w, b):\n",
    "    \n",
    "    err = 0.0\n",
    "    m = X_train.shape[0]\n",
    "    \n",
    "    for i in range(m):\n",
    "        \n",
    "        x = X_train[i]\n",
    "        y = Y_train[i]\n",
    "        hx = hypothesis(x, w, b)\n",
    "        err += y*np.log2(hx) + (1-y)*np.log2(1-hx)\n",
    "    \n",
    "    err = -1.0*err\n",
    "        \n",
    "    return err/m\n",
    "\n",
    "def gradient(Y_train, X_train, w, b):\n",
    "    \n",
    "    m = X_train.shape[0]\n",
    "    grad_w = np.zeros(w.shape)\n",
    "    grad_b = 0.0\n",
    "    \n",
    "    for i in range(m):\n",
    "        hx = hypothesis(X_train[i], w, b)\n",
    "        grad_w += (Y_train[i]-hx)*X_train[i]\n",
    "        grad_b += Y_train[i]-hx\n",
    "        \n",
    "    grad_w /= m\n",
    "    grad_b /= m\n",
    "    \n",
    "    return [grad_w, grad_b]\n",
    "\n",
    "def gradient_ascent(Y_train, X_train, w, b, max_iter=1000, learning_rate=0.1):\n",
    "    \n",
    "    error_list = []\n",
    "    \n",
    "    for i in range(max_iter):\n",
    "        \n",
    "        err = error(Y_train, X_train, w, b)\n",
    "        error_list.append(err)\n",
    "        [grad_w, grad_b] = gradient(Y_train, X_train, w, b)\n",
    "        w = w + learning_rate*grad_w\n",
    "        b = b + learning_rate*grad_b\n",
    "        \n",
    "    return error_list, w, b\n",
    "\n",
    "def predictions(X_test, w, b):\n",
    "    \n",
    "    confidence = hypothesis(X_test, w, b)\n",
    "    Y_pred = []\n",
    "    \n",
    "    for val in confidence:\n",
    "        if val<0.5:\n",
    "            Y_pred.append(0)\n",
    "        else:\n",
    "            Y_pred.append(1)\n",
    "            \n",
    "    return Y_pred"
   ]
  },
  {
   "cell_type": "code",
   "execution_count": 114,
   "metadata": {},
   "outputs": [],
   "source": [
    "## Initialize the Weight vectors and call the function\n",
    "\n",
    "W = 2*np.random.random(((X_train.shape[1]-1),))\n",
    "B = 5*np.random.random()\n",
    "\n",
    "error_list, w, b = gradient_ascent(Y_train, X_train[:,1:], W, B)"
   ]
  },
  {
   "cell_type": "code",
   "execution_count": 115,
   "metadata": {},
   "outputs": [
    {
     "data": {
      "image/png": "[encoded data removed]",
      "text/plain": [
       "<Figure size 432x288 with 1 Axes>"
      ]
     },
     "metadata": {
      "needs_background": "light"
     },
     "output_type": "display_data"
    }
   ],
   "source": [
    "## Plot the loss function -> Error\n",
    "## This indicates that the loss has significantly decreased over time\n",
    "\n",
    "plt.plot(error_list)\n",
    "plt.xlabel('No.of Iterations')\n",
    "plt.ylabel('Loss = Negative of Log Likelihood')\n",
    "plt.show()"
   ]
  },
  {
   "cell_type": "code",
   "execution_count": 116,
   "metadata": {},
   "outputs": [],
   "source": [
    "pred = predictions(X_test[:, 1:], w, b)"
   ]
  },
  {
   "cell_type": "code",
   "execution_count": 117,
   "metadata": {},
   "outputs": [
    {
     "name": "stdout",
     "output_type": "stream",
     "text": [
      "Your submission was successfully saved!\n"
     ]
    }
   ],
   "source": [
    "output = pd.DataFrame({'pids': pids, 'diabetes': pred})\n",
    "output.to_csv('my_submission_lr.csv', index=False)\n",
    "print(\"Your submission was successfully saved!\")"
   ]
  },
  {
   "cell_type": "code",
   "execution_count": null,
   "metadata": {},
   "outputs": [],
   "source": []
  }
 ],
 "metadata": {
  "kernelspec": {
   "display_name": "Python 3",
   "language": "python",
   "name": "python3"
  },
  "language_info": {
   "codemirror_mode": {
    "name": "ipython",
    "version": 3
   },
   "file_extension": ".py",
   "mimetype": "text/x-python",
   "name": "python",
   "nbconvert_exporter": "python",
   "pygments_lexer": "ipython3",
   "version": "3.8.2"
  }
 },
 "nbformat": 4,
 "nbformat_minor": 4
}
